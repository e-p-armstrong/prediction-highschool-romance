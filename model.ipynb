{
 "cells": [
  {
   "cell_type": "code",
   "execution_count": null,
   "id": "9f6e1630",
   "metadata": {},
   "outputs": [],
   "source": [
    "import tensorflow as tf\n",
    "from tensorflow.keras.models import Sequential\n",
    "from tensorflow.keras.layers import Dense\n",
    "from tensorflow.keras.activations import linear, relu, sigmoid\n",
    "import numpy as np\n",
    "import pandas\n",
    "from sklearn.preprocessing import StandardScaler\n",
    "from tensorflow.keras.optimizers.legacy import Adam\n",
    "\n",
    "print(pandas.__version__)\n",
    "\n",
    "# Get and scale training data\n",
    "scaler = StandardScaler()\n",
    "\n",
    "data_train = pandas.read_csv(\"./student/student-mat-clean-train.csv\").to_numpy()\n",
    "\n",
    "X_train = scaler.fit_transform(data_train[:,1:6])\n",
    "y_train = data_train[:,0]\n",
    "# print(\"Data:\")\n",
    "# print(data)\n",
    "# print(\"X\")\n",
    "# print(X_train)\n",
    "# print(\"y\")\n",
    "# print(y_train)\n",
    "\n",
    "# Load and scale testing data\n",
    "\n",
    "data_test = pandas.read_csv(\"./student/student-mat-clean-test.csv\").to_numpy()\n",
    "\n",
    "X_test = scaler.transform(data_test[:,1:6])\n",
    "y_test = data_test[:,0]\n",
    "\n",
    "print(\"Num gpus available: \")\n",
    "print(len(tf.config.experimental.list_physical_devices('GPU')))\n",
    "\n",
    "# print(tf.reduce_sum(tf.random.normal([1000, 1000])))\n",
    "\n",
    "# Number of units picked with no particular logic behind it\n"
   ]
  },
  {
   "cell_type": "code",
   "execution_count": null,
   "id": "420249bd",
   "metadata": {},
   "outputs": [],
   "source": [
    "model = Sequential([\n",
    "    Dense(units = 40, activation = \"relu\"),\n",
    "    Dense(units = 20, activation = \"relu\"),\n",
    "    Dense(units = 10, activation = \"relu\"), \n",
    "    Dense(units = 1, activation = \"sigmoid\"), # Output\n",
    "])\n",
    "\n",
    "model.compile(loss = tf.keras.losses.BinaryCrossentropy(),\n",
    "             optimizer=Adam())\n",
    "\n",
    "model.fit(X_train,y_train, epochs=500)\n",
    "print(\"reached end!\")"
   ]
  },
  {
   "cell_type": "code",
   "execution_count": null,
   "id": "5d902696",
   "metadata": {},
   "outputs": [],
   "source": []
  }
 ],
 "metadata": {
  "kernelspec": {
   "display_name": "Python 3 (ipykernel)",
   "language": "python",
   "name": "python3"
  },
  "language_info": {
   "codemirror_mode": {
    "name": "ipython",
    "version": 3
   },
   "file_extension": ".py",
   "mimetype": "text/x-python",
   "name": "python",
   "nbconvert_exporter": "python",
   "pygments_lexer": "ipython3",
   "version": "3.8.15"
  }
 },
 "nbformat": 4,
 "nbformat_minor": 5
}
